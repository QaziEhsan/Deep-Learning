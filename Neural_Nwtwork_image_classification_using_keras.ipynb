{
  "nbformat": 4,
  "nbformat_minor": 0,
  "metadata": {
    "colab": {
      "provenance": []
    },
    "kernelspec": {
      "name": "python3",
      "display_name": "Python 3"
    },
    "language_info": {
      "name": "python"
    }
  },
  "cells": [
    {
      "cell_type": "code",
      "execution_count": 9,
      "metadata": {
        "id": "Mpg_0lNjGEFk"
      },
      "outputs": [],
      "source": [
        "from keras.datasets import mnist\n",
        "from keras.utils import to_categorical\n",
        "from keras.models import Sequential\n",
        "from keras.layers import Dense\n",
        "from keras.layers import Dropout\n",
        "import numpy as np\n",
        "import matplotlib.pyplot as pl\n"
      ]
    },
    {
      "cell_type": "code",
      "source": [
        "(train_images,train_labels),(test_images,test_labels) = mnist.load_data ()"
      ],
      "metadata": {
        "colab": {
          "base_uri": "https://localhost:8080/"
        },
        "id": "SNdBGrz1H3MW",
        "outputId": "5ba3b31b-38a7-4a75-d362-609d1510feda"
      },
      "execution_count": 5,
      "outputs": [
        {
          "output_type": "stream",
          "name": "stdout",
          "text": [
            "Downloading data from https://storage.googleapis.com/tensorflow/tf-keras-datasets/mnist.npz\n",
            "\u001b[1m11490434/11490434\u001b[0m \u001b[32m━━━━━━━━━━━━━━━━━━━━\u001b[0m\u001b[37m\u001b[0m \u001b[1m0s\u001b[0m 0us/step\n"
          ]
        }
      ]
    },
    {
      "cell_type": "code",
      "source": [
        "print('Training data:',train_images.shape,train_labels.shape)\n",
        "print('Testing data:',test_images.shape,test_labels.shape)"
      ],
      "metadata": {
        "colab": {
          "base_uri": "https://localhost:8080/"
        },
        "id": "wBgHnCtGIUmu",
        "outputId": "6415d526-317b-4bb0-d894-0019976b0062"
      },
      "execution_count": 6,
      "outputs": [
        {
          "output_type": "stream",
          "name": "stdout",
          "text": [
            "Training data: (60000, 28, 28) (60000,)\n",
            "Testing data: (10000, 28, 28) (10000,)\n"
          ]
        }
      ]
    },
    {
      "cell_type": "code",
      "source": [
        "print(train_labels[0:20])"
      ],
      "metadata": {
        "colab": {
          "base_uri": "https://localhost:8080/"
        },
        "id": "rwWAJiEsI3Z_",
        "outputId": "990943d0-a6a3-4797-d80b-c6bb61b06b0e"
      },
      "execution_count": 7,
      "outputs": [
        {
          "output_type": "stream",
          "name": "stdout",
          "text": [
            "[5 0 4 1 9 2 1 3 1 4 3 5 3 6 1 7 2 8 6 9]\n"
          ]
        }
      ]
    },
    {
      "cell_type": "code",
      "source": [
        "#unique numbers from the train labels\n",
        "total_classes = np.unique(train_labels)\n",
        "number_of_total_classes = len(total_classes)\n",
        "print(\"Total number of output classes:\",number_of_total_classes)\n",
        "print(\"All output classes:\",total_classes)\n"
      ],
      "metadata": {
        "colab": {
          "base_uri": "https://localhost:8080/"
        },
        "id": "Zosxs2SKJScR",
        "outputId": "c6749043-f9ae-4f5e-cf7b-21bd729b7130"
      },
      "execution_count": 8,
      "outputs": [
        {
          "output_type": "stream",
          "name": "stdout",
          "text": [
            "Total number of output classes: 10\n",
            "All output classes: [0 1 2 3 4 5 6 7 8 9]\n"
          ]
        }
      ]
    },
    {
      "cell_type": "code",
      "source": [
        "#displaying the first image in testing data\n",
        "plt.figure(figsize=[10,5])\n",
        "plt.subplot(122)\n",
        "plt.imshow(test_images[1,:,:],cmap='Blues') # Changed 'camp' to 'cmap'\n",
        "plt.title(\"label:{}\".format(test_labels[0]))"
      ],
      "metadata": {
        "colab": {
          "base_uri": "https://localhost:8080/",
          "height": 452
        },
        "id": "3bzKpx6yJ-cp",
        "outputId": "59298b60-130f-419e-e7d0-5c22a7714f7f"
      },
      "execution_count": 17,
      "outputs": [
        {
          "output_type": "execute_result",
          "data": {
            "text/plain": [
              "Text(0.5, 1.0, 'label:7')"
            ]
          },
          "metadata": {},
          "execution_count": 17
        },
        {
          "output_type": "display_data",
          "data": {
            "text/plain": [
              "<Figure size 1000x500 with 1 Axes>"
            ],
            "image/png": "[encoded data removed]"
          },
          "metadata": {}
        }
      ]
    },
    {
      "cell_type": "code",
      "source": [
        "#change from matrix to array of dimension 28x28 to array of dimension 784\n",
        "newdimensionData = np.prod(train_images.shape[1:])\n",
        "train_data = train_images.reshape(train_images.shape[0],newdimensionData)\n",
        "test_data = test_images.reshape(test_images.shape[0],newdimensionData)\n",
        "print(train_data.shape)\n",
        "print(test_data.shape)"
      ],
      "metadata": {
        "colab": {
          "base_uri": "https://localhost:8080/"
        },
        "id": "62ev4wo9NNqo",
        "outputId": "db3b2e9a-492c-436a-df44-a317dbfccd24"
      },
      "execution_count": 16,
      "outputs": [
        {
          "output_type": "stream",
          "name": "stdout",
          "text": [
            "(60000, 784)\n",
            "(10000, 784)\n"
          ]
        }
      ]
    },
    {
      "cell_type": "markdown",
      "source": [
        "**Data Preprocessing**"
      ],
      "metadata": {
        "id": "IbAmrAHQU4p8"
      }
    },
    {
      "cell_type": "code",
      "source": [
        "#change to float datatype\n",
        "train_data = train_data.astype(\"float32\")\n",
        "test_data = test_data.astype('float32')"
      ],
      "metadata": {
        "id": "3WPb3eueONSi"
      },
      "execution_count": 18,
      "outputs": []
    },
    {
      "cell_type": "code",
      "source": [
        "#scale the data to lie between 0 to 1\n",
        "train_data /= 255\n",
        "test_data /= 255"
      ],
      "metadata": {
        "id": "mDBfqyuIO9cr"
      },
      "execution_count": 20,
      "outputs": []
    },
    {
      "cell_type": "code",
      "source": [
        "#change the labels from integer to categorical data\n",
        "train_labels_one_hot = to_categorical(train_labels)\n",
        "test_labels_one_hot = to_categorical(test_labels)"
      ],
      "metadata": {
        "id": "sNAlkPa-PNCZ"
      },
      "execution_count": 21,
      "outputs": []
    },
    {
      "cell_type": "code",
      "source": [
        "#display the change for category label using one hot coding\n",
        "print('origianl label 6:',train_labels[10])\n",
        "print(\"After conversion to catgeorical (one-hot):\" ,train_labels_one_hot[10])"
      ],
      "metadata": {
        "colab": {
          "base_uri": "https://localhost:8080/"
        },
        "id": "3akYOcK5PnXn",
        "outputId": "fd7f5945-6e4e-4c10-fb2b-304a5c23f798"
      },
      "execution_count": 22,
      "outputs": [
        {
          "output_type": "stream",
          "name": "stdout",
          "text": [
            "origianl label 6: 3\n",
            "After conversion to catgeorical (one-hot): [0. 0. 0. 1. 0. 0. 0. 0. 0. 0.]\n"
          ]
        }
      ]
    },
    {
      "cell_type": "markdown",
      "source": [
        "**Model Training**"
      ],
      "metadata": {
        "id": "4WF8OLclUz0b"
      }
    },
    {
      "cell_type": "code",
      "source": [
        "#Model Training\n",
        "model = Sequential()\n",
        "model.add(Dense(512,activation ='relu',input_shape=(newdimensionData,)))\n",
        "model.add(Dense(512,activation ='relu'))\n",
        "model.add(Dense(number_of_total_classes,activation='softmax'))"
      ],
      "metadata": {
        "id": "Gp0Z0DytR4uK"
      },
      "execution_count": 23,
      "outputs": []
    },
    {
      "cell_type": "markdown",
      "source": [
        "**Model Configuration**"
      ],
      "metadata": {
        "id": "M1rUzwbyUuhf"
      }
    },
    {
      "cell_type": "code",
      "source": [
        "model.compile(optimizer='SGD',loss='categorical_crossentropy',metrics=['accuracy'])"
      ],
      "metadata": {
        "id": "ZfQvX0zoTXgS"
      },
      "execution_count": 24,
      "outputs": []
    },
    {
      "cell_type": "code",
      "source": [
        "history = model.fit(train_data,train_labels_one_hot,batch_size=256,epochs=10,verbose=1, validation_data =(test_data,test_labels_one_hot))"
      ],
      "metadata": {
        "colab": {
          "base_uri": "https://localhost:8080/"
        },
        "id": "ZlV80NeAV1Pe",
        "outputId": "bad9cf8b-5736-49e1-c91f-2097648a0d9a"
      },
      "execution_count": 25,
      "outputs": [
        {
          "output_type": "stream",
          "name": "stdout",
          "text": [
            "Epoch 1/10\n",
            "\u001b[1m235/235\u001b[0m \u001b[32m━━━━━━━━━━━━━━━━━━━━\u001b[0m\u001b[37m\u001b[0m \u001b[1m5s\u001b[0m 21ms/step - accuracy: 0.4935 - loss: 1.9224 - val_accuracy: 0.8235 - val_loss: 0.8901\n",
            "Epoch 2/10\n",
            "\u001b[1m235/235\u001b[0m \u001b[32m━━━━━━━━━━━━━━━━━━━━\u001b[0m\u001b[37m\u001b[0m \u001b[1m6s\u001b[0m 27ms/step - accuracy: 0.8313 - loss: 0.7862 - val_accuracy: 0.8771 - val_loss: 0.5271\n",
            "Epoch 3/10\n",
            "\u001b[1m235/235\u001b[0m \u001b[32m━━━━━━━━━━━━━━━━━━━━\u001b[0m\u001b[37m\u001b[0m \u001b[1m9s\u001b[0m 21ms/step - accuracy: 0.8712 - loss: 0.5163 - val_accuracy: 0.8918 - val_loss: 0.4197\n",
            "Epoch 4/10\n",
            "\u001b[1m235/235\u001b[0m \u001b[32m━━━━━━━━━━━━━━━━━━━━\u001b[0m\u001b[37m\u001b[0m \u001b[1m7s\u001b[0m 30ms/step - accuracy: 0.8907 - loss: 0.4191 - val_accuracy: 0.9029 - val_loss: 0.3686\n",
            "Epoch 5/10\n",
            "\u001b[1m235/235\u001b[0m \u001b[32m━━━━━━━━━━━━━━━━━━━━\u001b[0m\u001b[37m\u001b[0m \u001b[1m5s\u001b[0m 21ms/step - accuracy: 0.8986 - loss: 0.3774 - val_accuracy: 0.9089 - val_loss: 0.3399\n",
            "Epoch 6/10\n",
            "\u001b[1m235/235\u001b[0m \u001b[32m━━━━━━━━━━━━━━━━━━━━\u001b[0m\u001b[37m\u001b[0m \u001b[1m6s\u001b[0m 26ms/step - accuracy: 0.9060 - loss: 0.3449 - val_accuracy: 0.9137 - val_loss: 0.3173\n",
            "Epoch 7/10\n",
            "\u001b[1m235/235\u001b[0m \u001b[32m━━━━━━━━━━━━━━━━━━━━\u001b[0m\u001b[37m\u001b[0m \u001b[1m5s\u001b[0m 20ms/step - accuracy: 0.9103 - loss: 0.3230 - val_accuracy: 0.9170 - val_loss: 0.3024\n",
            "Epoch 8/10\n",
            "\u001b[1m235/235\u001b[0m \u001b[32m━━━━━━━━━━━━━━━━━━━━\u001b[0m\u001b[37m\u001b[0m \u001b[1m5s\u001b[0m 21ms/step - accuracy: 0.9138 - loss: 0.3095 - val_accuracy: 0.9216 - val_loss: 0.2889\n",
            "Epoch 9/10\n",
            "\u001b[1m235/235\u001b[0m \u001b[32m━━━━━━━━━━━━━━━━━━━━\u001b[0m\u001b[37m\u001b[0m \u001b[1m6s\u001b[0m 26ms/step - accuracy: 0.9180 - loss: 0.2951 - val_accuracy: 0.9238 - val_loss: 0.2777\n",
            "Epoch 10/10\n",
            "\u001b[1m235/235\u001b[0m \u001b[32m━━━━━━━━━━━━━━━━━━━━\u001b[0m\u001b[37m\u001b[0m \u001b[1m5s\u001b[0m 20ms/step - accuracy: 0.9201 - loss: 0.2862 - val_accuracy: 0.9259 - val_loss: 0.2694\n"
          ]
        }
      ]
    },
    {
      "cell_type": "markdown",
      "source": [
        "**Model Evaluation**"
      ],
      "metadata": {
        "id": "2xhdvbM6ZVbC"
      }
    },
    {
      "cell_type": "code",
      "source": [
        "[test_loss,test_acc] = model.evaluate(test_data,test_labels_one_hot)\n",
        "print(\"Evaluation result: Loss{}.accuracy ={}\".format(test_loss,test_acc))"
      ],
      "metadata": {
        "colab": {
          "base_uri": "https://localhost:8080/"
        },
        "id": "t6nWgMqyZJ-V",
        "outputId": "89729e2a-3b8b-4805-d983-64ce7db305b7"
      },
      "execution_count": 27,
      "outputs": [
        {
          "output_type": "stream",
          "name": "stdout",
          "text": [
            "\u001b[1m313/313\u001b[0m \u001b[32m━━━━━━━━━━━━━━━━━━━━\u001b[0m\u001b[37m\u001b[0m \u001b[1m1s\u001b[0m 3ms/step - accuracy: 0.9161 - loss: 0.3100\n",
            "Evaluation result: Loss0.26939332485198975.accuracy =0.9258999824523926\n"
          ]
        }
      ]
    },
    {
      "cell_type": "code",
      "source": [
        "y_pred = model.predict(test_data)"
      ],
      "metadata": {
        "colab": {
          "base_uri": "https://localhost:8080/"
        },
        "id": "lJF_4wFNaoLQ",
        "outputId": "cbc56145-b4b0-4440-d82a-0672b4f4b9e5"
      },
      "execution_count": 28,
      "outputs": [
        {
          "output_type": "stream",
          "name": "stdout",
          "text": [
            "\u001b[1m313/313\u001b[0m \u001b[32m━━━━━━━━━━━━━━━━━━━━\u001b[0m\u001b[37m\u001b[0m \u001b[1m1s\u001b[0m 3ms/step\n"
          ]
        }
      ]
    },
    {
      "cell_type": "code",
      "source": [
        "y_pred_labels =np.argmax(y_pred,axis=1)\n"
      ],
      "metadata": {
        "id": "_AXeewZOa0f9"
      },
      "execution_count": 29,
      "outputs": []
    },
    {
      "cell_type": "code",
      "source": [
        "y_pred_labels"
      ],
      "metadata": {
        "colab": {
          "base_uri": "https://localhost:8080/"
        },
        "id": "tBybRbPba9_l",
        "outputId": "385b0776-3d17-462b-9f5c-4352c51b3027"
      },
      "execution_count": 30,
      "outputs": [
        {
          "output_type": "execute_result",
          "data": {
            "text/plain": [
              "array([7, 2, 1, ..., 4, 5, 6])"
            ]
          },
          "metadata": {},
          "execution_count": 30
        }
      ]
    },
    {
      "cell_type": "code",
      "source": [
        "from sklearn.metrics import confusion_matrix\n",
        "cm = confusion_matrix(test_labels, y_pred_labels)\n",
        "cm"
      ],
      "metadata": {
        "colab": {
          "base_uri": "https://localhost:8080/"
        },
        "id": "05GVK5tObAiO",
        "outputId": "50f421db-61d6-43a1-91a0-ff20e6c2d560"
      },
      "execution_count": 37,
      "outputs": [
        {
          "output_type": "execute_result",
          "data": {
            "text/plain": [
              "array([[ 961,    0,    2,    1,    0,    5,    7,    1,    3,    0],\n",
              "       [   0, 1113,    2,    2,    0,    2,    4,    1,   11,    0],\n",
              "       [  12,    2,  922,   15,   15,    1,   17,   14,   31,    3],\n",
              "       [   3,    0,   17,  931,    0,   20,    2,   14,   19,    4],\n",
              "       [   1,    4,    3,    1,  930,    1,   10,    2,    6,   24],\n",
              "       [  13,    3,    4,   33,    8,  784,   14,    7,   22,    4],\n",
              "       [  16,    3,    3,    1,   12,   11,  909,    1,    2,    0],\n",
              "       [   3,   11,   24,    7,    8,    0,    0,  952,    2,   21],\n",
              "       [   7,    8,    8,   23,    9,   20,   13,   11,  866,    9],\n",
              "       [  12,    8,    2,   10,   48,   10,    1,   24,    3,  891]])"
            ]
          },
          "metadata": {},
          "execution_count": 37
        }
      ]
    },
    {
      "cell_type": "code",
      "source": [
        "#ploting predicting labels with a blue line\n",
        "plt.plot(range(len(test_labels))[:30], test_labels[:30], color='r', label='Growth Truth', linestyle='-', marker='o' )\n",
        "plt.plot(range(len(y_pred_labels))[:30], y_pred_labels[:30], color='b', label='Growth Prediction', linestyle='-', marker='x')\n",
        "plt.legend()\n",
        "plt.show()\n"
      ],
      "metadata": {
        "colab": {
          "base_uri": "https://localhost:8080/",
          "height": 430
        },
        "id": "YXXO1GWEbUkH",
        "outputId": "0d279bb3-1abc-46a2-fc88-7f7ab0868ce3"
      },
      "execution_count": 41,
      "outputs": [
        {
          "output_type": "display_data",
          "data": {
            "text/plain": [
              "<Figure size 640x480 with 1 Axes>"
            ],
            "image/png": "[encoded data removed]"
          },
          "metadata": {}
        }
      ]
    },
    {
      "cell_type": "code",
      "source": [],
      "metadata": {
        "id": "8FCQoK_acrhJ"
      },
      "execution_count": null,
      "outputs": []
    }
  ]
}